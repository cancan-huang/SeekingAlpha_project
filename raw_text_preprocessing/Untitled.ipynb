{
 "cells": [
  {
   "cell_type": "code",
   "execution_count": null,
   "metadata": {
    "collapsed": true
   },
   "outputs": [],
   "source": [
    "import pandas as pd\n",
    "from bs4 import BeautifulSoup\n",
    "import re\n",
    "import os\n",
    "from raw_text_preprocessing.table_creator_v2 import one_text_reader\n",
    "\n",
    "wd = ''\n",
    "\n",
    "folders = ['data/inner/',\n",
    "           'data/outer/1-526/',\n",
    "           'data/outer/770-1046/',\n",
    "           'data/outer/1047-1241/',\n",
    "           'data/outer/1242-1894/']\n",
    "\n",
    "alltxts = []\n",
    "for f in folders:\n",
    "    alltxts += list(map(lambda x: wd+f+x, os.listdir(wd+f)))\n",
    "\n",
    "\n",
    "for i in range(len(alltxts) // 500 + 1):\n",
    "    print(i)\n",
    "    files = alltxts[500 * i:500 * (i + 1)]\n",
    "    df_list = []\n",
    "    for f in files:\n",
    "        try:\n",
    "            df_list.append(\n",
    "                one_text_reader(f)\n",
    "            )\n",
    "        except:\n",
    "            print(f)\n",
    "            with open(wd+'err.txt', 'a') as file:\n",
    "                file.write(f + '\\n')\n",
    "\n",
    "    pd.concat(df_list).to_csv(wd+'data/res_table_modified_func/table{}.csv'.format(i))\n",
    "\n",
    "\n",
    "\n",
    "\n",
    "\n",
    "with open(wd + 'live_stream.txt', 'r') as file:\n",
    "    lst = file.readlines()"
   ]
  }
 ],
 "metadata": {
  "anaconda-cloud": {},
  "kernelspec": {
   "display_name": "Python [conda env:anaconda3]",
   "language": "python",
   "name": "conda-env-anaconda3-py"
  },
  "language_info": {
   "codemirror_mode": {
    "name": "ipython",
    "version": 3
   },
   "file_extension": ".py",
   "mimetype": "text/x-python",
   "name": "python",
   "nbconvert_exporter": "python",
   "pygments_lexer": "ipython3",
   "version": "3.5.4"
  }
 },
 "nbformat": 4,
 "nbformat_minor": 2
}
