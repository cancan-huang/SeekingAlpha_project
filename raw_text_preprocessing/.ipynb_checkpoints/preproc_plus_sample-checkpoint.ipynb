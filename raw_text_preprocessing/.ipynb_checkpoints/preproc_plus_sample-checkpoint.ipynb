{
 "cells": [
  {
   "cell_type": "code",
   "execution_count": 1,
   "metadata": {},
   "outputs": [],
   "source": [
    "import pandas as pd\n",
    "import os\n",
    "from table_creator import one_text_reader\n",
    "\n",
    "os.chdir('..')"
   ]
  },
  {
   "cell_type": "code",
   "execution_count": 2,
   "metadata": {},
   "outputs": [],
   "source": [
    "folders = ['data/inner/',\n",
    "           'data/outer/1-526/',\n",
    "           'data/outer/770-1046/',\n",
    "           'data/outer/1047-1241/',\n",
    "           'data/outer/1242-1894/']\n",
    "\n",
    "alltxts = []\n",
    "for f in folders:\n",
    "    alltxts += list(map(lambda x: f+x, os.listdir(f)))"
   ]
  },
  {
   "cell_type": "code",
   "execution_count": null,
   "metadata": {
    "scrolled": true
   },
   "outputs": [
    {
     "name": "stdout",
     "output_type": "stream",
     "text": [
      "['Bonanza Creek Energy Inc', 'Q3 2012 Earnings Conference Call', 'Nov 9, 2012 11:00 am ET']\n",
      "data/inner/3092_num_3.txt\n",
      "data/inner/3309_num_19.txt\n"
     ]
    }
   ],
   "source": [
    "for i in range(len(alltxts) // 500 + 1):\n",
    "    files = alltxts[500*i:500*(i+1)]\n",
    "    df_list = []\n",
    "    for f in files:\n",
    "        try:\n",
    "            df_list.append(\n",
    "                one_text_reader(f)\n",
    "            )\n",
    "        except:\n",
    "            print(f)\n",
    "            with open('err.txt', 'a') as file:\n",
    "                file.write(f + '\\n')\n",
    "\n",
    "    pd.concat(df_list).to_csv('data/res_table_2/table{}.csv'.format(i))"
   ]
  },
  {
   "cell_type": "code",
   "execution_count": 55,
   "metadata": {
    "collapsed": true
   },
   "outputs": [],
   "source": [
    "with open('err.txt', 'r') as file:\n",
    "    err_files = file.readlines()"
   ]
  },
  {
   "cell_type": "code",
   "execution_count": 57,
   "metadata": {},
   "outputs": [
    {
     "data": {
      "text/plain": [
       "5568"
      ]
     },
     "execution_count": 57,
     "metadata": {},
     "output_type": "execute_result"
    }
   ],
   "source": [
    "len(err_files)"
   ]
  },
  {
   "cell_type": "code",
   "execution_count": 63,
   "metadata": {},
   "outputs": [],
   "source": [
    "tables = os.listdir('data/res_tables/')"
   ]
  },
  {
   "cell_type": "code",
   "execution_count": 73,
   "metadata": {},
   "outputs": [],
   "source": [
    "for i in range(len(tables)):\n",
    "    t = pd.read_csv('data/res_tables/' + tables[i])\n",
    "    with open('compnames.txt', 'a') as file:\n",
    "        err_files = file.write('\\n'.join(t['Company_name'].tolist()) + '\\n')"
   ]
  },
  {
   "cell_type": "code",
   "execution_count": 74,
   "metadata": {},
   "outputs": [],
   "source": [
    "with open('compnames.txt', 'r') as file:\n",
    "    comps = file.readlines()"
   ]
  },
  {
   "cell_type": "code",
   "execution_count": 77,
   "metadata": {
    "scrolled": true
   },
   "outputs": [],
   "source": [
    "from collections import Counter\n",
    "counts = Counter(comps)"
   ]
  },
  {
   "cell_type": "code",
   "execution_count": 90,
   "metadata": {},
   "outputs": [],
   "source": [
    "maxcompany = max(counts, key=counts.get)[:-1]"
   ]
  },
  {
   "cell_type": "code",
   "execution_count": 104,
   "metadata": {},
   "outputs": [],
   "source": [
    "res_comp = pd.DataFrame()\n",
    "for i in range(len(tables)):\n",
    "    t = pd.read_csv('data/res_tables/' + tables[i])\n",
    "    if len(t[t['Company_name']==maxcompany])!=0:\n",
    "        res_comp = pd.concat(\n",
    "            [res_comp, t[t['Company_name']==maxcompany]]\n",
    "        )"
   ]
  },
  {
   "cell_type": "code",
   "execution_count": 108,
   "metadata": {
    "scrolled": true
   },
   "outputs": [],
   "source": [
    "res_comp.to_csv('sample_table.csv')"
   ]
  },
  {
   "cell_type": "code",
   "execution_count": null,
   "metadata": {
    "collapsed": true
   },
   "outputs": [],
   "source": []
  }
 ],
 "metadata": {
  "anaconda-cloud": {},
  "kernelspec": {
   "display_name": "Python [conda root]",
   "language": "python",
   "name": "conda-root-py"
  },
  "language_info": {
   "codemirror_mode": {
    "name": "ipython",
    "version": 3
   },
   "file_extension": ".py",
   "mimetype": "text/x-python",
   "name": "python",
   "nbconvert_exporter": "python",
   "pygments_lexer": "ipython3",
   "version": "3.5.4"
  }
 },
 "nbformat": 4,
 "nbformat_minor": 1
}
