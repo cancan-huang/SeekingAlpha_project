{
 "cells": [
  {
   "cell_type": "code",
   "execution_count": 2,
   "metadata": {
    "collapsed": true
   },
   "outputs": [],
   "source": [
    "import pandas as pd\n",
    "import os\n",
    "import numpy as np"
   ]
  },
  {
   "cell_type": "code",
   "execution_count": 3,
   "metadata": {},
   "outputs": [],
   "source": [
    "recdet = pd.read_stata('../data/recdet.dta')\n",
    "bran = pd.read_stata('../data/bran.dta')"
   ]
  },
  {
   "cell_type": "code",
   "execution_count": 4,
   "metadata": {},
   "outputs": [
    {
     "data": {
      "text/html": [
       "<div>\n",
       "<style>\n",
       "    .dataframe thead tr:only-child th {\n",
       "        text-align: right;\n",
       "    }\n",
       "\n",
       "    .dataframe thead th {\n",
       "        text-align: left;\n",
       "    }\n",
       "\n",
       "    .dataframe tbody tr th {\n",
       "        vertical-align: top;\n",
       "    }\n",
       "</style>\n",
       "<table border=\"1\" class=\"dataframe\">\n",
       "  <thead>\n",
       "    <tr style=\"text-align: right;\">\n",
       "      <th></th>\n",
       "      <th>ticker</th>\n",
       "      <th>cusip</th>\n",
       "      <th>cname</th>\n",
       "      <th>oftic</th>\n",
       "      <th>actdats</th>\n",
       "      <th>estimid</th>\n",
       "      <th>analyst</th>\n",
       "      <th>ereccd</th>\n",
       "      <th>etext</th>\n",
       "      <th>ireccd</th>\n",
       "      <th>itext</th>\n",
       "      <th>emaskcd</th>\n",
       "      <th>amaskcd</th>\n",
       "      <th>usfirm</th>\n",
       "      <th>acttims</th>\n",
       "      <th>revdats</th>\n",
       "      <th>revtims</th>\n",
       "      <th>anndats</th>\n",
       "      <th>anntims</th>\n",
       "    </tr>\n",
       "  </thead>\n",
       "  <tbody>\n",
       "    <tr>\n",
       "      <th>0</th>\n",
       "      <td>0000</td>\n",
       "      <td>87482X10</td>\n",
       "      <td>TALMER BANCORP</td>\n",
       "      <td>TLMR</td>\n",
       "      <td>2014-03-10</td>\n",
       "      <td>RBCDOMIN</td>\n",
       "      <td>ARFSTROM      J</td>\n",
       "      <td>2</td>\n",
       "      <td>OUTPERFORM</td>\n",
       "      <td>2</td>\n",
       "      <td>BUY</td>\n",
       "      <td>659.0</td>\n",
       "      <td>71182.0</td>\n",
       "      <td>1.0</td>\n",
       "      <td>08:54:03</td>\n",
       "      <td>2016-01-26</td>\n",
       "      <td>09:35:52</td>\n",
       "      <td>2014-03-10</td>\n",
       "      <td>00:20:00</td>\n",
       "    </tr>\n",
       "    <tr>\n",
       "      <th>1</th>\n",
       "      <td>0000</td>\n",
       "      <td>87482X10</td>\n",
       "      <td>TALMER BANCORP</td>\n",
       "      <td>TLMR</td>\n",
       "      <td>2014-03-11</td>\n",
       "      <td>JPMORGAN</td>\n",
       "      <td>ALEXOPOULOS   S</td>\n",
       "      <td></td>\n",
       "      <td>OVERWEIGHT</td>\n",
       "      <td>2</td>\n",
       "      <td>BUY</td>\n",
       "      <td>1243.0</td>\n",
       "      <td>79092.0</td>\n",
       "      <td>1.0</td>\n",
       "      <td>17:10:47</td>\n",
       "      <td>2016-01-26</td>\n",
       "      <td>10:09:34</td>\n",
       "      <td>2014-03-10</td>\n",
       "      <td>00:25:00</td>\n",
       "    </tr>\n",
       "    <tr>\n",
       "      <th>2</th>\n",
       "      <td>0000</td>\n",
       "      <td>87482X10</td>\n",
       "      <td>TALMER BANCORP</td>\n",
       "      <td>TLMR</td>\n",
       "      <td>2014-03-11</td>\n",
       "      <td>KEEFE</td>\n",
       "      <td>MCGRATTY      C</td>\n",
       "      <td>2</td>\n",
       "      <td>OUTPERFORM</td>\n",
       "      <td>2</td>\n",
       "      <td>BUY</td>\n",
       "      <td>1308.0</td>\n",
       "      <td>119962.0</td>\n",
       "      <td>1.0</td>\n",
       "      <td>15:17:15</td>\n",
       "      <td>2015-07-30</td>\n",
       "      <td>07:25:58</td>\n",
       "      <td>2014-03-09</td>\n",
       "      <td>17:05:00</td>\n",
       "    </tr>\n",
       "    <tr>\n",
       "      <th>3</th>\n",
       "      <td>0000</td>\n",
       "      <td>87482X10</td>\n",
       "      <td>TALMER BANCORP</td>\n",
       "      <td>TLMR</td>\n",
       "      <td>2014-03-11</td>\n",
       "      <td>RAYMOND</td>\n",
       "      <td>LONG          D</td>\n",
       "      <td>1</td>\n",
       "      <td>STRONG BUY</td>\n",
       "      <td>1</td>\n",
       "      <td>STRONG BUY</td>\n",
       "      <td>1929.0</td>\n",
       "      <td>80474.0</td>\n",
       "      <td>1.0</td>\n",
       "      <td>15:49:22</td>\n",
       "      <td>2016-01-19</td>\n",
       "      <td>08:06:44</td>\n",
       "      <td>2014-03-10</td>\n",
       "      <td>06:48:00</td>\n",
       "    </tr>\n",
       "    <tr>\n",
       "      <th>4</th>\n",
       "      <td>0000</td>\n",
       "      <td>87482X10</td>\n",
       "      <td>TALMER BANCORP</td>\n",
       "      <td>TLMR</td>\n",
       "      <td>2014-03-11</td>\n",
       "      <td>STERNE</td>\n",
       "      <td>GREEN         P</td>\n",
       "      <td>2</td>\n",
       "      <td>NEUTRAL</td>\n",
       "      <td>3</td>\n",
       "      <td>HOLD</td>\n",
       "      <td>2209.0</td>\n",
       "      <td>50789.0</td>\n",
       "      <td>1.0</td>\n",
       "      <td>15:22:08</td>\n",
       "      <td>2014-11-07</td>\n",
       "      <td>12:20:17</td>\n",
       "      <td>2014-03-10</td>\n",
       "      <td>07:45:00</td>\n",
       "    </tr>\n",
       "  </tbody>\n",
       "</table>\n",
       "</div>"
      ],
      "text/plain": [
       "  ticker     cusip           cname oftic    actdats   estimid  \\\n",
       "0   0000  87482X10  TALMER BANCORP  TLMR 2014-03-10  RBCDOMIN   \n",
       "1   0000  87482X10  TALMER BANCORP  TLMR 2014-03-11  JPMORGAN   \n",
       "2   0000  87482X10  TALMER BANCORP  TLMR 2014-03-11     KEEFE   \n",
       "3   0000  87482X10  TALMER BANCORP  TLMR 2014-03-11   RAYMOND   \n",
       "4   0000  87482X10  TALMER BANCORP  TLMR 2014-03-11    STERNE   \n",
       "\n",
       "           analyst ereccd       etext ireccd       itext  emaskcd   amaskcd  \\\n",
       "0  ARFSTROM      J      2  OUTPERFORM      2         BUY    659.0   71182.0   \n",
       "1  ALEXOPOULOS   S         OVERWEIGHT      2         BUY   1243.0   79092.0   \n",
       "2  MCGRATTY      C      2  OUTPERFORM      2         BUY   1308.0  119962.0   \n",
       "3  LONG          D      1  STRONG BUY      1  STRONG BUY   1929.0   80474.0   \n",
       "4  GREEN         P      2     NEUTRAL      3        HOLD   2209.0   50789.0   \n",
       "\n",
       "   usfirm   acttims    revdats   revtims    anndats   anntims  \n",
       "0     1.0  08:54:03 2016-01-26  09:35:52 2014-03-10  00:20:00  \n",
       "1     1.0  17:10:47 2016-01-26  10:09:34 2014-03-10  00:25:00  \n",
       "2     1.0  15:17:15 2015-07-30  07:25:58 2014-03-09  17:05:00  \n",
       "3     1.0  15:49:22 2016-01-19  08:06:44 2014-03-10  06:48:00  \n",
       "4     1.0  15:22:08 2014-11-07  12:20:17 2014-03-10  07:45:00  "
      ]
     },
     "execution_count": 4,
     "metadata": {},
     "output_type": "execute_result"
    }
   ],
   "source": [
    "recdet.head()"
   ]
  },
  {
   "cell_type": "code",
   "execution_count": 5,
   "metadata": {},
   "outputs": [
    {
     "data": {
      "text/html": [
       "<div>\n",
       "<style>\n",
       "    .dataframe thead tr:only-child th {\n",
       "        text-align: right;\n",
       "    }\n",
       "\n",
       "    .dataframe thead th {\n",
       "        text-align: left;\n",
       "    }\n",
       "\n",
       "    .dataframe tbody tr th {\n",
       "        vertical-align: top;\n",
       "    }\n",
       "</style>\n",
       "<table border=\"1\" class=\"dataframe\">\n",
       "  <thead>\n",
       "    <tr style=\"text-align: right;\">\n",
       "      <th></th>\n",
       "      <th>baindi</th>\n",
       "      <th>bacode</th>\n",
       "      <th>baname</th>\n",
       "      <th>baid</th>\n",
       "      <th>usfirm</th>\n",
       "    </tr>\n",
       "  </thead>\n",
       "  <tbody>\n",
       "    <tr>\n",
       "      <th>0</th>\n",
       "      <td>B</td>\n",
       "      <td>1</td>\n",
       "      <td></td>\n",
       "      <td>A.L.O.</td>\n",
       "      <td>1</td>\n",
       "    </tr>\n",
       "    <tr>\n",
       "      <th>1</th>\n",
       "      <td>B</td>\n",
       "      <td>1</td>\n",
       "      <td>ABACO CASA DE BOLSA</td>\n",
       "      <td>ABACO</td>\n",
       "      <td>0</td>\n",
       "    </tr>\n",
       "    <tr>\n",
       "      <th>2</th>\n",
       "      <td>A</td>\n",
       "      <td>1</td>\n",
       "      <td>FITZGERALD         J</td>\n",
       "      <td></td>\n",
       "      <td>1</td>\n",
       "    </tr>\n",
       "    <tr>\n",
       "      <th>3</th>\n",
       "      <td>A</td>\n",
       "      <td>1</td>\n",
       "      <td>FITZGERALD         J</td>\n",
       "      <td></td>\n",
       "      <td>0</td>\n",
       "    </tr>\n",
       "    <tr>\n",
       "      <th>4</th>\n",
       "      <td>B</td>\n",
       "      <td>2</td>\n",
       "      <td>ALGEMENE BANK OF THE NETHERLANDS</td>\n",
       "      <td>ABN</td>\n",
       "      <td>1</td>\n",
       "    </tr>\n",
       "  </tbody>\n",
       "</table>\n",
       "</div>"
      ],
      "text/plain": [
       "  baindi  bacode                                    baname      baid  usfirm\n",
       "0      B       1                                            A.L.O.         1\n",
       "1      B       1  ABACO CASA DE BOLSA                       ABACO          0\n",
       "2      A       1  FITZGERALD         J                                     1\n",
       "3      A       1  FITZGERALD         J                                     0\n",
       "4      B       2  ALGEMENE BANK OF THE NETHERLANDS          ABN            1"
      ]
     },
     "execution_count": 5,
     "metadata": {},
     "output_type": "execute_result"
    }
   ],
   "source": [
    "bran.head()"
   ]
  },
  {
   "cell_type": "code",
   "execution_count": null,
   "metadata": {
    "collapsed": true
   },
   "outputs": [],
   "source": []
  },
  {
   "cell_type": "code",
   "execution_count": null,
   "metadata": {
    "collapsed": true
   },
   "outputs": [],
   "source": []
  },
  {
   "cell_type": "code",
   "execution_count": null,
   "metadata": {
    "collapsed": true
   },
   "outputs": [],
   "source": []
  },
  {
   "cell_type": "code",
   "execution_count": 5,
   "metadata": {
    "collapsed": true
   },
   "outputs": [],
   "source": [
    "recdet.to_csv('recdet.csv')"
   ]
  },
  {
   "cell_type": "code",
   "execution_count": 9,
   "metadata": {
    "collapsed": true
   },
   "outputs": [],
   "source": [
    "res_tabs = os.listdir('../data/res_tables')\n",
    "\n",
    "analutics_sa = []\n",
    "\n",
    "sares = pd.read_csv('../data/res_tables/' + res_tabs[0])\n",
    "\n",
    "\n",
    "for f in res_tabs:\n",
    "    sares = pd.read_csv('../data/res_tables/' + f)\n",
    "    analutics_sa += list(pd.unique(sares['Analyst']))\n",
    "    # analutics_sa += sum(list(map(lambda x: x.split(', '), pd.unique(sares['Analysts_list']))), [])\n",
    "\n",
    "analutics_sa = pd.unique(analutics_sa)\n",
    "\n",
    "analutics_sa = analutics_sa[~pd.isnull(analutics_sa)].copy()"
   ]
  },
  {
   "cell_type": "code",
   "execution_count": 11,
   "metadata": {
    "collapsed": true
   },
   "outputs": [],
   "source": [
    "pd.DataFrame(analutics_sa).to_csv('analytics.csv')"
   ]
  },
  {
   "cell_type": "code",
   "execution_count": 2,
   "metadata": {
    "collapsed": true
   },
   "outputs": [],
   "source": [
    "res_tabs = os.listdir('../data/res_tables')\n",
    "analutics_sa = []\n",
    "for f in res_tabs:\n",
    "    sares = pd.read_csv('../data/res_tables/' + f)\n",
    "    analutics_sa += sum(list(map(lambda x: x.split(', '), pd.unique(sares['Analysts_list']))), [])"
   ]
  },
  {
   "cell_type": "code",
   "execution_count": 3,
   "metadata": {
    "collapsed": true
   },
   "outputs": [],
   "source": [
    "l = pd.Series(analutics_sa)"
   ]
  },
  {
   "cell_type": "code",
   "execution_count": null,
   "metadata": {
    "collapsed": true
   },
   "outputs": [],
   "source": []
  },
  {
   "cell_type": "code",
   "execution_count": 17,
   "metadata": {
    "collapsed": true,
    "scrolled": true
   },
   "outputs": [],
   "source": [
    "pd.DataFrame(pd.unique(l[(l.map(len)>=17) & (l.map(len)<=55)])).to_csv('analusts_bank.csv')"
   ]
  },
  {
   "cell_type": "code",
   "execution_count": null,
   "metadata": {
    "collapsed": true
   },
   "outputs": [],
   "source": []
  },
  {
   "cell_type": "code",
   "execution_count": null,
   "metadata": {
    "collapsed": true
   },
   "outputs": [],
   "source": []
  },
  {
   "cell_type": "code",
   "execution_count": null,
   "metadata": {
    "collapsed": true
   },
   "outputs": [],
   "source": []
  },
  {
   "cell_type": "code",
   "execution_count": null,
   "metadata": {
    "collapsed": true
   },
   "outputs": [],
   "source": []
  },
  {
   "cell_type": "code",
   "execution_count": null,
   "metadata": {
    "collapsed": true
   },
   "outputs": [],
   "source": []
  }
 ],
 "metadata": {
  "anaconda-cloud": {},
  "kernelspec": {
   "display_name": "Python [conda env:anaconda3]",
   "language": "python",
   "name": "conda-env-anaconda3-py"
  },
  "language_info": {
   "codemirror_mode": {
    "name": "ipython",
    "version": 3
   },
   "file_extension": ".py",
   "mimetype": "text/x-python",
   "name": "python",
   "nbconvert_exporter": "python",
   "pygments_lexer": "ipython3",
   "version": "3.5.4"
  }
 },
 "nbformat": 4,
 "nbformat_minor": 2
}
