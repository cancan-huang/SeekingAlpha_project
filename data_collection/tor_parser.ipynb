{
 "cells": [
  {
   "cell_type": "code",
   "execution_count": 1,
   "metadata": {
    "collapsed": true
   },
   "outputs": [],
   "source": [
    "import numpy as np\n",
    "\n",
    "import requests\n",
    "from bs4 import BeautifulSoup\n",
    "import time\n",
    "\n",
    "from user_agent import generate_user_agent"
   ]
  },
  {
   "cell_type": "code",
   "execution_count": 2,
   "metadata": {
    "collapsed": true
   },
   "outputs": [],
   "source": [
    "import socks\n",
    "import socket\n",
    "socks.set_default_proxy(socks.SOCKS5, \"localhost\", 9150)\n",
    "socket.socket = socks.socksocket"
   ]
  },
  {
   "cell_type": "code",
   "execution_count": 3,
   "metadata": {},
   "outputs": [
    {
     "name": "stdout",
     "output_type": "stream",
     "text": [
      "Current IP Address: 65.19.167.130\n"
     ]
    }
   ],
   "source": [
    "def checkIP():\n",
    "    ip = requests.get('http://checkip.dyndns.org').content\n",
    "    soup = BeautifulSoup(ip, 'html.parser')\n",
    "    print(soup.find('body').text)\n",
    "\n",
    "checkIP()"
   ]
  },
  {
   "cell_type": "code",
   "execution_count": 4,
   "metadata": {
    "collapsed": true
   },
   "outputs": [],
   "source": [
    "url_art = 'https://seekingalpha.com/earnings/earnings-call-transcripts/'  # + number\n",
    "url_site = 'https://seekingalpha.com/'\n",
    "\n",
    "folder = '../'"
   ]
  },
  {
   "cell_type": "code",
   "execution_count": 5,
   "metadata": {
    "collapsed": true
   },
   "outputs": [],
   "source": [
    "def transcript_links_getter(url_art, num_page):\n",
    "    h = generate_user_agent() #next(headers)\n",
    "    page = requests.get(url_art + str(num_page), headers={'User-Agent': h})\n",
    "    page_bs = BeautifulSoup(page.text, \"lxml\")\n",
    "    links = page_bs.findAll('ul', id='analysis-list-container')[0]\n",
    "    links = links.findAll('h3')\n",
    "    arts = []\n",
    "    for a in links:\n",
    "        arts.append(a.findAll('a')[0]['href'])\n",
    "    return arts"
   ]
  },
  {
   "cell_type": "code",
   "execution_count": 6,
   "metadata": {
    "collapsed": true
   },
   "outputs": [],
   "source": [
    "def one_transcript_getter(art):\n",
    "    h = generate_user_agent() #next(headers)\n",
    "    page_art = requests.get(url_site + art, headers={'User-Agent': h})\n",
    "    if page_art.status_code==200:\n",
    "        page_bs_art = BeautifulSoup(page_art.text, \"lxml\")\n",
    "        text = page_bs_art.findAll('article')[0]\n",
    "        return text    \n",
    "    else:\n",
    "        try:\n",
    "            time.sleep(np.random.uniform(low=3, high=5))\n",
    "            page_art = requests.get(url_site + art, headers={'User-Agent': h})\n",
    "            page_bs_art = BeautifulSoup(page_art.text, \"lxml\")\n",
    "            text = page_bs_art.findAll('article')[0]\n",
    "            return text\n",
    "        except:\n",
    "            with open(folder + \"data/errors.txt\", \"a\") as f:\n",
    "                f.write(art)"
   ]
  },
  {
   "cell_type": "code",
   "execution_count": 8,
   "metadata": {
    "scrolled": true
   },
   "outputs": [
    {
     "name": "stdout",
     "output_type": "stream",
     "text": [
      "3329\n",
      "3329_num_0.txt\n",
      "Current IP Address: 178.17.170.135\n",
      "3329_num_1.txt\n",
      "Current IP Address: 176.10.99.200\n",
      "3329_num_2.txt\n",
      "Current IP Address: 80.67.172.162\n",
      "3329_num_3.txt\n",
      "Current IP Address: 5.79.113.137\n",
      "3329_num_4.txt\n",
      "Current IP Address: 37.187.94.86\n",
      "3329_num_5.txt\n",
      "Current IP Address: 171.25.193.78\n",
      "3329_num_6.txt\n",
      "Current IP Address: 178.20.55.16\n"
     ]
    },
    {
     "ename": "KeyboardInterrupt",
     "evalue": "",
     "traceback": [
      "\u001b[0;31m---------------------------------------------------------------------------\u001b[0m",
      "\u001b[0;31mKeyboardInterrupt\u001b[0m                         Traceback (most recent call last)",
      "\u001b[0;32m<ipython-input-8-67c7a828341a>\u001b[0m in \u001b[0;36m<module>\u001b[0;34m()\u001b[0m\n\u001b[1;32m      3\u001b[0m     \u001b[0marts\u001b[0m \u001b[0;34m=\u001b[0m \u001b[0mtranscript_links_getter\u001b[0m\u001b[0;34m(\u001b[0m\u001b[0murl_art\u001b[0m\u001b[0;34m,\u001b[0m \u001b[0mi\u001b[0m\u001b[0;34m)\u001b[0m\u001b[0;34m\u001b[0m\u001b[0m\n\u001b[1;32m      4\u001b[0m     \u001b[0;32mfor\u001b[0m \u001b[0mx\u001b[0m \u001b[0;32min\u001b[0m \u001b[0mrange\u001b[0m\u001b[0;34m(\u001b[0m\u001b[0;36m0\u001b[0m\u001b[0;34m,\u001b[0m \u001b[0mlen\u001b[0m\u001b[0;34m(\u001b[0m\u001b[0marts\u001b[0m\u001b[0;34m)\u001b[0m\u001b[0;34m)\u001b[0m\u001b[0;34m:\u001b[0m\u001b[0;34m\u001b[0m\u001b[0m\n\u001b[0;32m----> 5\u001b[0;31m         \u001b[0mtime\u001b[0m\u001b[0;34m.\u001b[0m\u001b[0msleep\u001b[0m\u001b[0;34m(\u001b[0m\u001b[0mnp\u001b[0m\u001b[0;34m.\u001b[0m\u001b[0mrandom\u001b[0m\u001b[0;34m.\u001b[0m\u001b[0muniform\u001b[0m\u001b[0;34m(\u001b[0m\u001b[0mlow\u001b[0m\u001b[0;34m=\u001b[0m\u001b[0;36m6\u001b[0m\u001b[0;34m,\u001b[0m \u001b[0mhigh\u001b[0m\u001b[0;34m=\u001b[0m\u001b[0;36m8\u001b[0m\u001b[0;34m)\u001b[0m\u001b[0;34m)\u001b[0m\u001b[0;34m\u001b[0m\u001b[0m\n\u001b[0m\u001b[1;32m      6\u001b[0m         \u001b[0mart_text\u001b[0m \u001b[0;34m=\u001b[0m \u001b[0mone_transcript_getter\u001b[0m\u001b[0;34m(\u001b[0m\u001b[0marts\u001b[0m\u001b[0;34m[\u001b[0m\u001b[0mx\u001b[0m\u001b[0;34m]\u001b[0m\u001b[0;34m)\u001b[0m\u001b[0;34m\u001b[0m\u001b[0m\n\u001b[1;32m      7\u001b[0m \u001b[0;34m\u001b[0m\u001b[0m\n",
      "\u001b[0;31mKeyboardInterrupt\u001b[0m: "
     ],
     "output_type": "error"
    }
   ],
   "source": [
    "for i in range(3329, 4565):\n",
    "    print(i)\n",
    "    arts = transcript_links_getter(url_art, i)\n",
    "    for x in range(0, len(arts)):\n",
    "        time.sleep(np.random.uniform(low=9, high=11))\n",
    "        art_text = one_transcript_getter(arts[x])\n",
    "        \n",
    "        with open(folder + \"data/parsing/\" + str(i) + '_num_' + str(x) + '.txt', \"w\") as f:\n",
    "            f.write(str(art_text))\n",
    "\n",
    "        print(str(i) + '_num_' + str(x) + '.txt')\n",
    "        #checkIP()"
   ]
  },
  {
   "cell_type": "code",
   "execution_count": null,
   "metadata": {
    "collapsed": true
   },
   "outputs": [],
   "source": [
    "# from TorCrawler import TorCrawler\n",
    "# crawler = TorCrawler(ctrl_pass='16:763D8381509BF7E6608DDAD0797412A305D2A0793AD74DB8B84F6CCEC8')"
   ]
  }
 ],
 "metadata": {
  "kernelspec": {
   "display_name": "Python 3",
   "language": "python",
   "name": "python3"
  },
  "language_info": {
   "codemirror_mode": {
    "name": "ipython",
    "version": 3.0
   },
   "file_extension": ".py",
   "mimetype": "text/x-python",
   "name": "python",
   "nbconvert_exporter": "python",
   "pygments_lexer": "ipython3",
   "version": "3.6.2"
  }
 },
 "nbformat": 4,
 "nbformat_minor": 0
}